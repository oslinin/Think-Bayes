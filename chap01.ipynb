{
  "nbformat": 4,
  "nbformat_minor": 0,
  "metadata": {
    "kernelspec": {
      "display_name": "Python 3",
      "language": "python",
      "name": "python3"
    },
    "language_info": {
      "codemirror_mode": {
        "name": "ipython",
        "version": 3
      },
      "file_extension": ".py",
      "mimetype": "text/x-python",
      "name": "python",
      "nbconvert_exporter": "python",
      "pygments_lexer": "ipython3",
      "version": "3.8.2"
    },
    "toc": {
      "base_numbering": 1,
      "nav_menu": {},
      "number_sections": true,
      "sideBar": true,
      "skip_h1_title": false,
      "title_cell": "Table of Contents",
      "title_sidebar": "Contents",
      "toc_cell": false,
      "toc_position": {
        "height": "calc(100% - 180px)",
        "left": "10px",
        "top": "150px",
        "width": "235.8px"
      },
      "toc_section_display": true,
      "toc_window_display": true
    },
    "colab": {
      "name": "chap01.ipynb",
      "provenance": [],
      "collapsed_sections": [],
      "toc_visible": true,
      "include_colab_link": true
    }
  },
  "cells": [
    {
      "cell_type": "markdown",
      "metadata": {
        "id": "view-in-github",
        "colab_type": "text"
      },
      "source": [
        "<a href=\"https://colab.research.google.com/github/oslinin/Think-Bayes/blob/master/chap01.ipynb\" target=\"_parent\"><img src=\"https://colab.research.google.com/assets/colab-badge.svg\" alt=\"Open In Colab\"/></a>"
      ]
    },
    {
      "cell_type": "markdown",
      "metadata": {
        "id": "gBie7uUnlsxQ",
        "colab_type": "text"
      },
      "source": [
        "# Think Bayes\n",
        "\n",
        "Second Edition\n",
        "\n",
        "Copyright 2020 Allen B. Downey\n",
        "\n",
        "License: [Attribution-NonCommercial-ShareAlike 4.0 International (CC BY-NC-SA 4.0)](https://creativecommons.org/licenses/by-nc-sa/4.0/)"
      ]
    },
    {
      "cell_type": "code",
      "metadata": {
        "id": "mB2AX5pypEKb",
        "colab_type": "code",
        "colab": {}
      },
      "source": [
        "import torch\n",
        "from empiricaldist import Pmf"
      ],
      "execution_count": 38,
      "outputs": []
    },
    {
      "cell_type": "code",
      "metadata": {
        "id": "GyQ2SuM2pM-t",
        "colab_type": "code",
        "colab": {
          "base_uri": "https://localhost:8080/",
          "height": 193
        },
        "outputId": "fb7ba67c-5636-4482-b177-8d59cf5392d0"
      },
      "source": [
        "#from empiricaldist import Pmf\n",
        "#import empiricaldist\n",
        "!pip install empiricaldist"
      ],
      "execution_count": 37,
      "outputs": [
        {
          "output_type": "stream",
          "text": [
            "Collecting empiricaldist\n",
            "  Downloading https://files.pythonhosted.org/packages/c4/88/b6c44c1a5078224850473a8a6b82614d79147232113dd35e29de34b9ac8a/empiricaldist-0.3.9.tar.gz\n",
            "Building wheels for collected packages: empiricaldist\n",
            "  Building wheel for empiricaldist (setup.py) ... \u001b[?25l\u001b[?25hdone\n",
            "  Created wheel for empiricaldist: filename=empiricaldist-0.3.9-cp36-none-any.whl size=10157 sha256=0066f2212c82f3fc0e769965c9ac1e5c4f4d561fb531394a8719522efbe3b3af\n",
            "  Stored in directory: /root/.cache/pip/wheels/bf/70/8c/55788f5a5806e6da295e5da80d2c0ef286d9a8260a1e3142e1\n",
            "Successfully built empiricaldist\n",
            "Installing collected packages: empiricaldist\n",
            "Successfully installed empiricaldist-0.3.9\n"
          ],
          "name": "stdout"
        }
      ]
    },
    {
      "cell_type": "code",
      "metadata": {
        "id": "QBhOqdqFlsxb",
        "colab_type": "code",
        "colab": {}
      },
      "source": [
        "import numpy as np\n",
        "import pandas as pd, os"
      ],
      "execution_count": 25,
      "outputs": []
    },
    {
      "cell_type": "code",
      "metadata": {
        "id": "9iluK2a9mkVT",
        "colab_type": "code",
        "colab": {
          "base_uri": "https://localhost:8080/",
          "height": 34
        },
        "outputId": "337c9ff4-db24-4b42-d466-588ba634a622"
      },
      "source": [
        "from google.colab import drive\n",
        "drive.mount('/content/gdrive')"
      ],
      "execution_count": 20,
      "outputs": [
        {
          "output_type": "stream",
          "text": [
            "Mounted at /content/gdrive\n"
          ],
          "name": "stdout"
        }
      ]
    },
    {
      "cell_type": "code",
      "metadata": {
        "id": "AAOaUeEQnEEt",
        "colab_type": "code",
        "colab": {
          "base_uri": "https://localhost:8080/",
          "height": 86
        },
        "outputId": "f869d268-a072-48ab-e351-3d977c2dc31a"
      },
      "source": [
        "!ls \"/content/gdrive/My Drive/Education/ThinkBayes2-master/code\""
      ],
      "execution_count": 24,
      "outputs": [
        {
          "output_type": "stream",
          "text": [
            "chap01.ipynb  chap05.ipynb  chap11.ipynb      soln\n",
            "chap02.ipynb  chap06.ipynb  clustering.ipynb  tables\n",
            "chap03.ipynb  chap07.ipynb  data\t      Untitled.ipynb\n",
            "chap04.ipynb  chap09.ipynb  __pycache__       utils.py\n"
          ],
          "name": "stdout"
        }
      ]
    },
    {
      "cell_type": "code",
      "metadata": {
        "id": "AcNyGd5Hne6z",
        "colab_type": "code",
        "colab": {
          "base_uri": "https://localhost:8080/",
          "height": 35
        },
        "outputId": "5a1445ce-9c48-4f7f-c232-3e1d3a0191d5"
      },
      "source": [
        "os.chdir(\"/content/gdrive/My Drive/Education/ThinkBayes2-master/code\")\n",
        "os.getcwd()\n"
      ],
      "execution_count": 30,
      "outputs": [
        {
          "output_type": "execute_result",
          "data": {
            "application/vnd.google.colaboratory.intrinsic+json": {
              "type": "string"
            },
            "text/plain": [
              "'/content/gdrive/My Drive/Education/ThinkBayes2-master/code'"
            ]
          },
          "metadata": {
            "tags": []
          },
          "execution_count": 30
        }
      ]
    },
    {
      "cell_type": "markdown",
      "metadata": {
        "id": "IKrztbZylsyG",
        "colab_type": "text"
      },
      "source": [
        "## Bayes's Theorem\n",
        "\n",
        "Bayes's Theorem states:\n",
        "\n",
        "$P(H|D) = P(H) ~ P(D|H) ~/~ P(D)$\n",
        "\n",
        "where\n",
        "\n",
        "* $H$ stands for \"hypothesis\", and\n",
        "\n",
        "* $D$ stands for \"data\".\n",
        "\n",
        "Each term in this equation has a name:\n",
        "\n",
        "* $P(H)$ is the \"prior probability\" of the hypothesis, which represents how confident you are that $H$ is true prior to seeing the data,\n",
        "\n",
        "* $P(D|H)$ is the \"likelihood\" of the data, which is the probability of seeing $D$ if the hypothesis is true,\n",
        "\n",
        "* $P(D)$ is the \"total probability of the data\", that is, the chance of seeing $D$ regardless of whether $H$ is true or not.\n",
        "\n",
        "* $P(H|D)$ is the \"posterior probability\" of the hypothesis, which indicates how confident you should be that $H$ is true after taking the data into account."
      ]
    },
    {
      "cell_type": "markdown",
      "metadata": {
        "id": "TBHyYwAqlsyU",
        "colab_type": "text"
      },
      "source": [
        "## The cookie problem\n",
        "\n",
        "Here's a problem I got from Wikipedia a long time ago:\n",
        "\n",
        "> Suppose you have two bowls of cookies.  Bowl 1 contains 30 vanilla and 10 chocolate cookies.  Bowl 2 contains 20 of each kind.\n",
        ">\n",
        "> You choose one of the bowls at random and, without looking into the bowl, choose one of the cookies at random.  It turns out to be a vanilla cookie.\n",
        ">\n",
        "> What is the chance that you chose Bowl 1?\n",
        "\n",
        "We'll assume that there was an equal chance of choosing either bowl and an equal chance of choosing any cookie in the bowl."
      ]
    },
    {
      "cell_type": "markdown",
      "metadata": {
        "id": "kvM8lqfDlsyd",
        "colab_type": "text"
      },
      "source": [
        "We can solve this problem using Bayes's Theorem.  First, I'll define $H$ and $D$:\n",
        "\n",
        "* $H$ is the hypothesis that the bowl you chose is Bowl 1.\n",
        "\n",
        "* $D$ is the datum that the cookie is vanilla (\"datum\" is the rarely-used singular form of \"data\").\n",
        "\n",
        "What we want is the posterior probability of $H$, which is $P(H|D)$.  It is not obvious how to compute it directly, but if we can figure out the terms on the right-hand side of Bayes's Theorem, we can get to it indirectly."
      ]
    },
    {
      "cell_type": "markdown",
      "metadata": {
        "id": "7USEMHyulsyo",
        "colab_type": "text"
      },
      "source": [
        "1. $P(H)$ is the prior probability of $H$, which is the probability of choosing Bowl 1 before we see the data.  If there was an equal chance of choosing either bowl, $P(H)$ is $1/2$.\n",
        "\n",
        "2. $P(D|H)$ is the likelihood of the data, which is the chance of getting a vanilla cookie if $H$ is true, in other words, the chance of getting a vanilla cookie from Bowl 1, which is $30/40$ or $3/4$.\n",
        "\n",
        "3. $P(D)$ is the total probability of the data, which is the chance of getting a vanilla cookie whether $H$ is true or not.  In this example, we can figure out $P(D)$ directly: because the bowls are equally likely, and they contain the same number of cookies, you were equally likely to choose any cookie.  Combining the two bowls, there are 50 vanilla and 30 chocolate cookies, so the probability of choosing a vanilla cookie is $50/80$ or $5/8$.\n",
        "\n",
        "Now that we have the terms on the right-hand side, we can use Bayes's Theorem to combine them."
      ]
    },
    {
      "cell_type": "code",
      "metadata": {
        "id": "G6y_sjNHlsyu",
        "colab_type": "code",
        "colab": {
          "base_uri": "https://localhost:8080/",
          "height": 34
        },
        "outputId": "f4345962-c358-4465-d734-9b0d0e5316e4"
      },
      "source": [
        "prior = 1/2\n",
        "prior"
      ],
      "execution_count": 7,
      "outputs": [
        {
          "output_type": "execute_result",
          "data": {
            "text/plain": [
              "0.5"
            ]
          },
          "metadata": {
            "tags": []
          },
          "execution_count": 7
        }
      ]
    },
    {
      "cell_type": "code",
      "metadata": {
        "id": "gI9SZ0gYlszX",
        "colab_type": "code",
        "colab": {
          "base_uri": "https://localhost:8080/",
          "height": 34
        },
        "outputId": "49a542d5-fa96-4b13-84ce-adff86dde3c7"
      },
      "source": [
        "likelihood = 3/4\n",
        "likelihood"
      ],
      "execution_count": 8,
      "outputs": [
        {
          "output_type": "execute_result",
          "data": {
            "text/plain": [
              "0.75"
            ]
          },
          "metadata": {
            "tags": []
          },
          "execution_count": 8
        }
      ]
    },
    {
      "cell_type": "code",
      "metadata": {
        "id": "QgH4ZWEulsz0",
        "colab_type": "code",
        "colab": {
          "base_uri": "https://localhost:8080/",
          "height": 34
        },
        "outputId": "656e387b-2d97-4566-e2c0-87f673d386c7"
      },
      "source": [
        "prob_data = 5/8\n",
        "prob_data"
      ],
      "execution_count": 9,
      "outputs": [
        {
          "output_type": "execute_result",
          "data": {
            "text/plain": [
              "0.625"
            ]
          },
          "metadata": {
            "tags": []
          },
          "execution_count": 9
        }
      ]
    },
    {
      "cell_type": "code",
      "metadata": {
        "id": "OfcvHPvIls0S",
        "colab_type": "code",
        "colab": {
          "base_uri": "https://localhost:8080/",
          "height": 34
        },
        "outputId": "70150246-0640-4dd7-c55a-bbbd193fe3ef"
      },
      "source": [
        "posterior = prior * likelihood / prob_data\n",
        "posterior"
      ],
      "execution_count": 10,
      "outputs": [
        {
          "output_type": "execute_result",
          "data": {
            "text/plain": [
              "0.6"
            ]
          },
          "metadata": {
            "tags": []
          },
          "execution_count": 10
        }
      ]
    },
    {
      "cell_type": "markdown",
      "metadata": {
        "id": "0OSzMFcDls02",
        "colab_type": "text"
      },
      "source": [
        "The posterior probability is $0.6$, a little higher than the prior, which was $0.5$.  \n",
        "\n",
        "So the vanilla cookie makes us a little more certain that we chose Bowl 1."
      ]
    },
    {
      "cell_type": "markdown",
      "metadata": {
        "id": "bUSjaRfPls0-",
        "colab_type": "text"
      },
      "source": [
        "**Exercise:** What if we had chosen a chocolate cookie instead; what would be the posterior probability of Bowl 1?"
      ]
    },
    {
      "cell_type": "code",
      "metadata": {
        "id": "YewuRlOWls1C",
        "colab_type": "code",
        "colab": {
          "base_uri": "https://localhost:8080/",
          "height": 34
        },
        "outputId": "65387323-20d3-481c-fe83-ef8806d84390"
      },
      "source": [
        "#p(bowl1|vanilla) = (p(bowl1) * p(vanilla|1)/p(vanilla))\n",
        ".5*.75/(5/8)"
      ],
      "execution_count": 11,
      "outputs": [
        {
          "output_type": "execute_result",
          "data": {
            "text/plain": [
              "0.6"
            ]
          },
          "metadata": {
            "tags": []
          },
          "execution_count": 11
        }
      ]
    },
    {
      "cell_type": "code",
      "metadata": {
        "id": "xZihInquls1X",
        "colab_type": "code",
        "colab": {
          "base_uri": "https://localhost:8080/",
          "height": 34
        },
        "outputId": "be53d93a-6df8-45f6-8ac4-42c4bb105e09"
      },
      "source": [
        "#p(bowl2|vanilla) = (p(bowl2) * p(vanilla|2)/p(vanilla))\n",
        ".5*.5/(5/8)"
      ],
      "execution_count": 12,
      "outputs": [
        {
          "output_type": "execute_result",
          "data": {
            "text/plain": [
              "0.4"
            ]
          },
          "metadata": {
            "tags": []
          },
          "execution_count": 12
        }
      ]
    },
    {
      "cell_type": "code",
      "metadata": {
        "id": "5S_qfkGZls1y",
        "colab_type": "code",
        "colab": {
          "base_uri": "https://localhost:8080/",
          "height": 34
        },
        "outputId": "77d3fec5-4577-4abe-de2f-ce677a1b9695"
      },
      "source": [
        "#p(bowl1|choc) = (p(bowl1) * p(choc|1)/p(choc))\n",
        ".5*.25/(3/8)"
      ],
      "execution_count": 13,
      "outputs": [
        {
          "output_type": "execute_result",
          "data": {
            "text/plain": [
              "0.3333333333333333"
            ]
          },
          "metadata": {
            "tags": []
          },
          "execution_count": 13
        }
      ]
    },
    {
      "cell_type": "code",
      "metadata": {
        "id": "6Sk_ye2ols2K",
        "colab_type": "code",
        "colab": {
          "base_uri": "https://localhost:8080/",
          "height": 34
        },
        "outputId": "17451ed5-ef12-4736-acda-202be184efc5"
      },
      "source": [
        "#p(bowl2|choc) = (p(bowl2) * p(choc|2)/p(choc))\n",
        ".5*.5/(3/8)"
      ],
      "execution_count": 14,
      "outputs": [
        {
          "output_type": "execute_result",
          "data": {
            "text/plain": [
              "0.6666666666666666"
            ]
          },
          "metadata": {
            "tags": []
          },
          "execution_count": 14
        }
      ]
    },
    {
      "cell_type": "markdown",
      "metadata": {
        "id": "q6XpbCh6ls2i",
        "colab_type": "text"
      },
      "source": [
        "## The Bayes table\n",
        "\n",
        "In the cookie problem we were able to compute the probability of the data directly, but that's not always the case.  In fact, computing the total probability of the data is often the hardest part of the problem.\n",
        "\n",
        "Fortunately, there is another way to solve problems like this that makes it easier: the Bayes table.\n",
        "\n",
        "You can write a Bayes table on paper or use a spreadsheet, but in this notebook I'll use a Pandas DataFrame.\n",
        "\n",
        "Here's an empty DataFrame with one row for each hypothesis:"
      ]
    },
    {
      "cell_type": "code",
      "metadata": {
        "id": "L4MZPaYBls2n",
        "colab_type": "code",
        "colab": {}
      },
      "source": [
        "import pandas as pd\n",
        "\n",
        "table = pd.DataFrame(index=['Bowl 1', 'Bowl 2'])"
      ],
      "execution_count": 15,
      "outputs": []
    },
    {
      "cell_type": "markdown",
      "metadata": {
        "id": "lJ3uGMJ0ls27",
        "colab_type": "text"
      },
      "source": [
        "Now I'll add a column to represent the priors:"
      ]
    },
    {
      "cell_type": "code",
      "metadata": {
        "id": "F28TzxbTls2-",
        "colab_type": "code",
        "colab": {
          "base_uri": "https://localhost:8080/",
          "height": 112
        },
        "outputId": "6665340e-5baf-46a1-a322-b7ba2d4e5962"
      },
      "source": [
        "table['prior'] = 1/2, 1/2\n",
        "table"
      ],
      "execution_count": 16,
      "outputs": [
        {
          "output_type": "execute_result",
          "data": {
            "text/html": [
              "<div>\n",
              "<style scoped>\n",
              "    .dataframe tbody tr th:only-of-type {\n",
              "        vertical-align: middle;\n",
              "    }\n",
              "\n",
              "    .dataframe tbody tr th {\n",
              "        vertical-align: top;\n",
              "    }\n",
              "\n",
              "    .dataframe thead th {\n",
              "        text-align: right;\n",
              "    }\n",
              "</style>\n",
              "<table border=\"1\" class=\"dataframe\">\n",
              "  <thead>\n",
              "    <tr style=\"text-align: right;\">\n",
              "      <th></th>\n",
              "      <th>prior</th>\n",
              "    </tr>\n",
              "  </thead>\n",
              "  <tbody>\n",
              "    <tr>\n",
              "      <th>Bowl 1</th>\n",
              "      <td>0.5</td>\n",
              "    </tr>\n",
              "    <tr>\n",
              "      <th>Bowl 2</th>\n",
              "      <td>0.5</td>\n",
              "    </tr>\n",
              "  </tbody>\n",
              "</table>\n",
              "</div>"
            ],
            "text/plain": [
              "        prior\n",
              "Bowl 1    0.5\n",
              "Bowl 2    0.5"
            ]
          },
          "metadata": {
            "tags": []
          },
          "execution_count": 16
        }
      ]
    },
    {
      "cell_type": "markdown",
      "metadata": {
        "id": "8zpyserYls3b",
        "colab_type": "text"
      },
      "source": [
        "And a column for the likelihoods:"
      ]
    },
    {
      "cell_type": "code",
      "metadata": {
        "scrolled": true,
        "id": "1B_8Jojals3e",
        "colab_type": "code",
        "colab": {
          "base_uri": "https://localhost:8080/",
          "height": 112
        },
        "outputId": "d6c8a2f0-49dc-484b-aeb4-b9245184fad3"
      },
      "source": [
        "table['likelihood'] = 3/4, 1/2\n",
        "table"
      ],
      "execution_count": 17,
      "outputs": [
        {
          "output_type": "execute_result",
          "data": {
            "text/html": [
              "<div>\n",
              "<style scoped>\n",
              "    .dataframe tbody tr th:only-of-type {\n",
              "        vertical-align: middle;\n",
              "    }\n",
              "\n",
              "    .dataframe tbody tr th {\n",
              "        vertical-align: top;\n",
              "    }\n",
              "\n",
              "    .dataframe thead th {\n",
              "        text-align: right;\n",
              "    }\n",
              "</style>\n",
              "<table border=\"1\" class=\"dataframe\">\n",
              "  <thead>\n",
              "    <tr style=\"text-align: right;\">\n",
              "      <th></th>\n",
              "      <th>prior</th>\n",
              "      <th>likelihood</th>\n",
              "    </tr>\n",
              "  </thead>\n",
              "  <tbody>\n",
              "    <tr>\n",
              "      <th>Bowl 1</th>\n",
              "      <td>0.5</td>\n",
              "      <td>0.75</td>\n",
              "    </tr>\n",
              "    <tr>\n",
              "      <th>Bowl 2</th>\n",
              "      <td>0.5</td>\n",
              "      <td>0.50</td>\n",
              "    </tr>\n",
              "  </tbody>\n",
              "</table>\n",
              "</div>"
            ],
            "text/plain": [
              "        prior  likelihood\n",
              "Bowl 1    0.5        0.75\n",
              "Bowl 2    0.5        0.50"
            ]
          },
          "metadata": {
            "tags": []
          },
          "execution_count": 17
        }
      ]
    },
    {
      "cell_type": "markdown",
      "metadata": {
        "id": "sGsMoPEsls3x",
        "colab_type": "text"
      },
      "source": [
        "Here we see a difference from the previous method: we compute likelihoods for both hypotheses, not just Bowl 1:\n",
        "\n",
        "* The chance of getting a vanilla cookie from Bowl 1 is 3/4.\n",
        "\n",
        "* The chance of getting a vanilla cookie from Bowl 2 is 1/2."
      ]
    },
    {
      "cell_type": "markdown",
      "metadata": {
        "id": "9Hf5uVWIls31",
        "colab_type": "text"
      },
      "source": [
        "The following cells write the Bayes table to a file."
      ]
    },
    {
      "cell_type": "code",
      "metadata": {
        "id": "Q1fBHP9-ls38",
        "colab_type": "code",
        "colab": {}
      },
      "source": [
        "# Get utils.py\n",
        "\n",
        "import os\n",
        "\n",
        "if not os.path.exists('utils.py'):\n",
        "    !wget https://github.com/AllenDowney/ThinkBayes2/raw/master/code/soln/utils.py\n",
        "        \n",
        "if not os.path.exists('tables'):\n",
        "    !mkdir tables"
      ],
      "execution_count": 32,
      "outputs": []
    },
    {
      "cell_type": "code",
      "metadata": {
        "id": "-AbMjZAUls4R",
        "colab_type": "code",
        "colab": {}
      },
      "source": [
        "from utils import write_table\n",
        "\n",
        "write_table(table, 'table01-01')"
      ],
      "execution_count": 39,
      "outputs": []
    },
    {
      "cell_type": "markdown",
      "metadata": {
        "id": "d6qsOKQ3ls4i",
        "colab_type": "text"
      },
      "source": [
        "The next step is similar to what we did with Bayes's Theorem; we multiply the priors by the likelihoods:"
      ]
    },
    {
      "cell_type": "code",
      "metadata": {
        "id": "EZ8JlkUkls4m",
        "colab_type": "code",
        "colab": {
          "base_uri": "https://localhost:8080/",
          "height": 112
        },
        "outputId": "45e027ac-cb8f-46de-a883-12c8c2f43ac4"
      },
      "source": [
        "table['unnorm'] = table['prior'] * table['likelihood']\n",
        "table"
      ],
      "execution_count": 40,
      "outputs": [
        {
          "output_type": "execute_result",
          "data": {
            "text/html": [
              "<div>\n",
              "<style scoped>\n",
              "    .dataframe tbody tr th:only-of-type {\n",
              "        vertical-align: middle;\n",
              "    }\n",
              "\n",
              "    .dataframe tbody tr th {\n",
              "        vertical-align: top;\n",
              "    }\n",
              "\n",
              "    .dataframe thead th {\n",
              "        text-align: right;\n",
              "    }\n",
              "</style>\n",
              "<table border=\"1\" class=\"dataframe\">\n",
              "  <thead>\n",
              "    <tr style=\"text-align: right;\">\n",
              "      <th></th>\n",
              "      <th>prior</th>\n",
              "      <th>likelihood</th>\n",
              "      <th>unnorm</th>\n",
              "    </tr>\n",
              "  </thead>\n",
              "  <tbody>\n",
              "    <tr>\n",
              "      <th>Bowl 1</th>\n",
              "      <td>0.5</td>\n",
              "      <td>0.75</td>\n",
              "      <td>0.375</td>\n",
              "    </tr>\n",
              "    <tr>\n",
              "      <th>Bowl 2</th>\n",
              "      <td>0.5</td>\n",
              "      <td>0.50</td>\n",
              "      <td>0.250</td>\n",
              "    </tr>\n",
              "  </tbody>\n",
              "</table>\n",
              "</div>"
            ],
            "text/plain": [
              "        prior  likelihood  unnorm\n",
              "Bowl 1    0.5        0.75   0.375\n",
              "Bowl 2    0.5        0.50   0.250"
            ]
          },
          "metadata": {
            "tags": []
          },
          "execution_count": 40
        }
      ]
    },
    {
      "cell_type": "markdown",
      "metadata": {
        "id": "JgLSB0Rxls46",
        "colab_type": "text"
      },
      "source": [
        "I called the result `unnorm` because it is an \"unnormalized posterior\".  To see what that means, let's compare the right-hand side of Bayes's Theorem:\n",
        "\n",
        "$P(H) P(D|H)~/~P(D)$\n",
        "\n",
        "To what we have computed so far:\n",
        "\n",
        "$P(H) P(D|H)$\n",
        "\n",
        "The difference is that we have not divided through by $P(D)$, the total probability of the data.  So let's do that."
      ]
    },
    {
      "cell_type": "markdown",
      "metadata": {
        "id": "5AlGtAUQls48",
        "colab_type": "text"
      },
      "source": [
        "There are two ways to compute $P(D)$:\n",
        "\n",
        "1. Sometimes we can figure it out directly.\n",
        "\n",
        "2. Otherwise, we can compute it by adding up the unnormalized posteriors.\n",
        "\n",
        "Here's the total of the unnormalized posteriors:"
      ]
    },
    {
      "cell_type": "code",
      "metadata": {
        "id": "2qwU8F7Vls4_",
        "colab_type": "code",
        "colab": {
          "base_uri": "https://localhost:8080/",
          "height": 34
        },
        "outputId": "f6264140-cca8-4869-c9de-71399366b837"
      },
      "source": [
        "prob_data = table['unnorm'].sum()\n",
        "prob_data"
      ],
      "execution_count": 41,
      "outputs": [
        {
          "output_type": "execute_result",
          "data": {
            "text/plain": [
              "0.625"
            ]
          },
          "metadata": {
            "tags": []
          },
          "execution_count": 41
        }
      ]
    },
    {
      "cell_type": "markdown",
      "metadata": {
        "id": "PAz0f89Fls5V",
        "colab_type": "text"
      },
      "source": [
        "Notice that we get 5/8, which is what we got by computing $P(D)$ directly.\n",
        "\n",
        "Now we divide by $P(D)$ to get the posteriors:"
      ]
    },
    {
      "cell_type": "code",
      "metadata": {
        "id": "8XoRId1cls5a",
        "colab_type": "code",
        "colab": {
          "base_uri": "https://localhost:8080/",
          "height": 112
        },
        "outputId": "4e670d02-2abb-443d-f461-e2d396062bbe"
      },
      "source": [
        "table['posterior'] = table['unnorm'] / prob_data\n",
        "table"
      ],
      "execution_count": 42,
      "outputs": [
        {
          "output_type": "execute_result",
          "data": {
            "text/html": [
              "<div>\n",
              "<style scoped>\n",
              "    .dataframe tbody tr th:only-of-type {\n",
              "        vertical-align: middle;\n",
              "    }\n",
              "\n",
              "    .dataframe tbody tr th {\n",
              "        vertical-align: top;\n",
              "    }\n",
              "\n",
              "    .dataframe thead th {\n",
              "        text-align: right;\n",
              "    }\n",
              "</style>\n",
              "<table border=\"1\" class=\"dataframe\">\n",
              "  <thead>\n",
              "    <tr style=\"text-align: right;\">\n",
              "      <th></th>\n",
              "      <th>prior</th>\n",
              "      <th>likelihood</th>\n",
              "      <th>unnorm</th>\n",
              "      <th>posterior</th>\n",
              "    </tr>\n",
              "  </thead>\n",
              "  <tbody>\n",
              "    <tr>\n",
              "      <th>Bowl 1</th>\n",
              "      <td>0.5</td>\n",
              "      <td>0.75</td>\n",
              "      <td>0.375</td>\n",
              "      <td>0.6</td>\n",
              "    </tr>\n",
              "    <tr>\n",
              "      <th>Bowl 2</th>\n",
              "      <td>0.5</td>\n",
              "      <td>0.50</td>\n",
              "      <td>0.250</td>\n",
              "      <td>0.4</td>\n",
              "    </tr>\n",
              "  </tbody>\n",
              "</table>\n",
              "</div>"
            ],
            "text/plain": [
              "        prior  likelihood  unnorm  posterior\n",
              "Bowl 1    0.5        0.75   0.375        0.6\n",
              "Bowl 2    0.5        0.50   0.250        0.4"
            ]
          },
          "metadata": {
            "tags": []
          },
          "execution_count": 42
        }
      ]
    },
    {
      "cell_type": "markdown",
      "metadata": {
        "id": "uy8zNrFJls5p",
        "colab_type": "text"
      },
      "source": [
        "The posterior probability for Bowl 1 is 0.6, which is what we got using Bayes's Theorem explicitly.\n",
        "\n",
        "As a bonus, we also get the posterior probability of Bowl 2, which is 0.4.\n",
        "\n",
        "The posterior probabilities add up to 1, which they should, because the hypotheses are \"complementary\"; that is, either one of them is true or the other, but not both.  So their probabilities have to add up to 1.\n",
        "\n",
        "When we add up the unnormalized posteriors and divide through, we force the posteriors to add up to 1.  This process is called \"normalization\", which is why the total probability of the data is also called the \"[normalizing constant](https://en.wikipedia.org/wiki/Normalizing_constant#Bayes'_theorem)\""
      ]
    },
    {
      "cell_type": "code",
      "metadata": {
        "id": "dFHOwR2Wls5y",
        "colab_type": "code",
        "colab": {}
      },
      "source": [
        "write_table(table, 'table01-02')"
      ],
      "execution_count": 43,
      "outputs": []
    },
    {
      "cell_type": "markdown",
      "metadata": {
        "id": "9RvkO7R8ls6C",
        "colab_type": "text"
      },
      "source": [
        "## The dice problem\n",
        "\n",
        "Suppose I have a box with a 6-sided die, an 8-sided die, and a 12-sided die.\n",
        "I choose one of the dice at random, roll it, and report that the outcome is a 1.\n",
        "What is the probability that I chose the 6-sided die?\n",
        "\n",
        "Here's a solution using a Bayes table:"
      ]
    },
    {
      "cell_type": "code",
      "metadata": {
        "id": "5D_UtiGUls6H",
        "colab_type": "code",
        "colab": {}
      },
      "source": [
        "table2 = pd.DataFrame(index=[6, 8, 12])"
      ],
      "execution_count": 44,
      "outputs": []
    },
    {
      "cell_type": "markdown",
      "metadata": {
        "id": "Ly39AxrOls6X",
        "colab_type": "text"
      },
      "source": [
        "I'll use fractions to represent the prior probabilities and the likelihoods.  That way they don't get rounded off to floating-point numbers."
      ]
    },
    {
      "cell_type": "code",
      "metadata": {
        "id": "xEy_psOQls6d",
        "colab_type": "code",
        "colab": {
          "base_uri": "https://localhost:8080/",
          "height": 143
        },
        "outputId": "ada097e1-64c6-4b0b-ffdf-d91deacdab47"
      },
      "source": [
        "from fractions import Fraction\n",
        "\n",
        "table2['prior'] = Fraction(1, 3)\n",
        "table2['likelihood'] = Fraction(1, 6), Fraction(1, 8), Fraction(1, 12)\n",
        "table2"
      ],
      "execution_count": 45,
      "outputs": [
        {
          "output_type": "execute_result",
          "data": {
            "text/html": [
              "<div>\n",
              "<style scoped>\n",
              "    .dataframe tbody tr th:only-of-type {\n",
              "        vertical-align: middle;\n",
              "    }\n",
              "\n",
              "    .dataframe tbody tr th {\n",
              "        vertical-align: top;\n",
              "    }\n",
              "\n",
              "    .dataframe thead th {\n",
              "        text-align: right;\n",
              "    }\n",
              "</style>\n",
              "<table border=\"1\" class=\"dataframe\">\n",
              "  <thead>\n",
              "    <tr style=\"text-align: right;\">\n",
              "      <th></th>\n",
              "      <th>prior</th>\n",
              "      <th>likelihood</th>\n",
              "    </tr>\n",
              "  </thead>\n",
              "  <tbody>\n",
              "    <tr>\n",
              "      <th>6</th>\n",
              "      <td>1/3</td>\n",
              "      <td>1/6</td>\n",
              "    </tr>\n",
              "    <tr>\n",
              "      <th>8</th>\n",
              "      <td>1/3</td>\n",
              "      <td>1/8</td>\n",
              "    </tr>\n",
              "    <tr>\n",
              "      <th>12</th>\n",
              "      <td>1/3</td>\n",
              "      <td>1/12</td>\n",
              "    </tr>\n",
              "  </tbody>\n",
              "</table>\n",
              "</div>"
            ],
            "text/plain": [
              "   prior likelihood\n",
              "6    1/3        1/6\n",
              "8    1/3        1/8\n",
              "12   1/3       1/12"
            ]
          },
          "metadata": {
            "tags": []
          },
          "execution_count": 45
        }
      ]
    },
    {
      "cell_type": "markdown",
      "metadata": {
        "id": "RBCVRg_Als6v",
        "colab_type": "text"
      },
      "source": [
        "Once you have priors and likelhoods, the remaining steps are always the same."
      ]
    },
    {
      "cell_type": "code",
      "metadata": {
        "id": "LuGYJ54Tls6y",
        "colab_type": "code",
        "colab": {
          "base_uri": "https://localhost:8080/",
          "height": 143
        },
        "outputId": "063852d3-4793-4ef1-b6db-b091ed436786"
      },
      "source": [
        "table2['unnorm'] = table2['prior'] * table2['likelihood']\n",
        "prob_data2 = table2['unnorm'].sum()\n",
        "table2['posterior'] = table2['unnorm'] / prob_data2\n",
        "table2"
      ],
      "execution_count": 46,
      "outputs": [
        {
          "output_type": "execute_result",
          "data": {
            "text/html": [
              "<div>\n",
              "<style scoped>\n",
              "    .dataframe tbody tr th:only-of-type {\n",
              "        vertical-align: middle;\n",
              "    }\n",
              "\n",
              "    .dataframe tbody tr th {\n",
              "        vertical-align: top;\n",
              "    }\n",
              "\n",
              "    .dataframe thead th {\n",
              "        text-align: right;\n",
              "    }\n",
              "</style>\n",
              "<table border=\"1\" class=\"dataframe\">\n",
              "  <thead>\n",
              "    <tr style=\"text-align: right;\">\n",
              "      <th></th>\n",
              "      <th>prior</th>\n",
              "      <th>likelihood</th>\n",
              "      <th>unnorm</th>\n",
              "      <th>posterior</th>\n",
              "    </tr>\n",
              "  </thead>\n",
              "  <tbody>\n",
              "    <tr>\n",
              "      <th>6</th>\n",
              "      <td>1/3</td>\n",
              "      <td>1/6</td>\n",
              "      <td>1/18</td>\n",
              "      <td>4/9</td>\n",
              "    </tr>\n",
              "    <tr>\n",
              "      <th>8</th>\n",
              "      <td>1/3</td>\n",
              "      <td>1/8</td>\n",
              "      <td>1/24</td>\n",
              "      <td>1/3</td>\n",
              "    </tr>\n",
              "    <tr>\n",
              "      <th>12</th>\n",
              "      <td>1/3</td>\n",
              "      <td>1/12</td>\n",
              "      <td>1/36</td>\n",
              "      <td>2/9</td>\n",
              "    </tr>\n",
              "  </tbody>\n",
              "</table>\n",
              "</div>"
            ],
            "text/plain": [
              "   prior likelihood unnorm posterior\n",
              "6    1/3        1/6   1/18       4/9\n",
              "8    1/3        1/8   1/24       1/3\n",
              "12   1/3       1/12   1/36       2/9"
            ]
          },
          "metadata": {
            "tags": []
          },
          "execution_count": 46
        }
      ]
    },
    {
      "cell_type": "markdown",
      "metadata": {
        "id": "T84Nz0D7ls7G",
        "colab_type": "text"
      },
      "source": [
        "The posterior probability of the 6-sided die is 4/9."
      ]
    },
    {
      "cell_type": "code",
      "metadata": {
        "id": "PghvpKfXls7O",
        "colab_type": "code",
        "colab": {}
      },
      "source": [
        "write_table(table2, 'table01-03')"
      ],
      "execution_count": null,
      "outputs": []
    },
    {
      "cell_type": "markdown",
      "metadata": {
        "id": "d5B8TP3Qls7g",
        "colab_type": "text"
      },
      "source": [
        "## The Monty Hall problem\n",
        "\n",
        "The [Monty Hall problem](https://en.wikipedia.org/wiki/Monty_Hall_problem) is based on one of the regular\n",
        "games on a television show called \"The Price is Right\".  \n",
        "If you are a contestant on the show, here's how the game works:\n",
        "\n",
        "* Monty shows you three closed doors numbered 1, 2, and 3. He tells you that there is a prize behind each door.\n",
        "\n",
        "* One prize is valuable (traditionally a car), the other two are less valuable (traditionally goats).\n",
        "\n",
        "* The object of the game is to guess which door has the car. If you guess right, you get to keep the car.\n",
        "\n",
        "Suppose you pick Door 1.\n",
        "Before opening the door you chose, Monty opens Door 3 and reveals a\n",
        "goat.\n",
        "Then Monty offers you the option to stick with your original\n",
        "choice or switch to the remaining unopened door.\n",
        "\n",
        "To maximize your chance of winning the car, should you stick with Door 1 or switch to Door 2?\n",
        "\n",
        "To answer this question, we have to make some assumptions about the behavior of the host:\n",
        "\n",
        "* Monty always opens a door and offers you the option to switch.\n",
        "\n",
        "* He never opens the door you picked or the door with the car.\n",
        "\n",
        "* If you choose the door with the car, he chooses one of the other doors at random.\n",
        "\n",
        "Here's a Bayes table that represent the hypotheses."
      ]
    },
    {
      "cell_type": "code",
      "metadata": {
        "id": "tENcdtq3ls7i",
        "colab_type": "code",
        "colab": {}
      },
      "source": [
        "table3 = pd.DataFrame(index=['Door 1', 'Door 2', 'Door 3'])"
      ],
      "execution_count": 47,
      "outputs": []
    },
    {
      "cell_type": "markdown",
      "metadata": {
        "id": "OXJvol8qls7v",
        "colab_type": "text"
      },
      "source": [
        "And here are the priors and likelihoods."
      ]
    },
    {
      "cell_type": "code",
      "metadata": {
        "id": "QKDuyGpBls70",
        "colab_type": "code",
        "colab": {
          "base_uri": "https://localhost:8080/",
          "height": 143
        },
        "outputId": "32993391-bd8e-43ec-8ff7-5b8ebeebd9ad"
      },
      "source": [
        "table3['prior'] = Fraction(1, 3)\n",
        "table3['likelihood'] = Fraction(1, 2), 1, 0\n",
        "table3"
      ],
      "execution_count": 48,
      "outputs": [
        {
          "output_type": "execute_result",
          "data": {
            "text/html": [
              "<div>\n",
              "<style scoped>\n",
              "    .dataframe tbody tr th:only-of-type {\n",
              "        vertical-align: middle;\n",
              "    }\n",
              "\n",
              "    .dataframe tbody tr th {\n",
              "        vertical-align: top;\n",
              "    }\n",
              "\n",
              "    .dataframe thead th {\n",
              "        text-align: right;\n",
              "    }\n",
              "</style>\n",
              "<table border=\"1\" class=\"dataframe\">\n",
              "  <thead>\n",
              "    <tr style=\"text-align: right;\">\n",
              "      <th></th>\n",
              "      <th>prior</th>\n",
              "      <th>likelihood</th>\n",
              "    </tr>\n",
              "  </thead>\n",
              "  <tbody>\n",
              "    <tr>\n",
              "      <th>Door 1</th>\n",
              "      <td>1/3</td>\n",
              "      <td>1/2</td>\n",
              "    </tr>\n",
              "    <tr>\n",
              "      <th>Door 2</th>\n",
              "      <td>1/3</td>\n",
              "      <td>1</td>\n",
              "    </tr>\n",
              "    <tr>\n",
              "      <th>Door 3</th>\n",
              "      <td>1/3</td>\n",
              "      <td>0</td>\n",
              "    </tr>\n",
              "  </tbody>\n",
              "</table>\n",
              "</div>"
            ],
            "text/plain": [
              "       prior likelihood\n",
              "Door 1   1/3        1/2\n",
              "Door 2   1/3          1\n",
              "Door 3   1/3          0"
            ]
          },
          "metadata": {
            "tags": []
          },
          "execution_count": 48
        }
      ]
    },
    {
      "cell_type": "markdown",
      "metadata": {
        "id": "NDjG1M0kls8F",
        "colab_type": "text"
      },
      "source": [
        "The next step is always the same."
      ]
    },
    {
      "cell_type": "code",
      "metadata": {
        "id": "tW6VUTq1ls8J",
        "colab_type": "code",
        "colab": {
          "base_uri": "https://localhost:8080/",
          "height": 143
        },
        "outputId": "9c6cbbff-b3c0-4e5f-ac1b-53eee7c41c81"
      },
      "source": [
        "table3['unnorm'] = table3['prior'] * table3['likelihood']\n",
        "prob_data3 = table3['unnorm'].sum()\n",
        "table3['posterior'] = table3['unnorm'] / prob_data3\n",
        "table3"
      ],
      "execution_count": 49,
      "outputs": [
        {
          "output_type": "execute_result",
          "data": {
            "text/html": [
              "<div>\n",
              "<style scoped>\n",
              "    .dataframe tbody tr th:only-of-type {\n",
              "        vertical-align: middle;\n",
              "    }\n",
              "\n",
              "    .dataframe tbody tr th {\n",
              "        vertical-align: top;\n",
              "    }\n",
              "\n",
              "    .dataframe thead th {\n",
              "        text-align: right;\n",
              "    }\n",
              "</style>\n",
              "<table border=\"1\" class=\"dataframe\">\n",
              "  <thead>\n",
              "    <tr style=\"text-align: right;\">\n",
              "      <th></th>\n",
              "      <th>prior</th>\n",
              "      <th>likelihood</th>\n",
              "      <th>unnorm</th>\n",
              "      <th>posterior</th>\n",
              "    </tr>\n",
              "  </thead>\n",
              "  <tbody>\n",
              "    <tr>\n",
              "      <th>Door 1</th>\n",
              "      <td>1/3</td>\n",
              "      <td>1/2</td>\n",
              "      <td>1/6</td>\n",
              "      <td>1/3</td>\n",
              "    </tr>\n",
              "    <tr>\n",
              "      <th>Door 2</th>\n",
              "      <td>1/3</td>\n",
              "      <td>1</td>\n",
              "      <td>1/3</td>\n",
              "      <td>2/3</td>\n",
              "    </tr>\n",
              "    <tr>\n",
              "      <th>Door 3</th>\n",
              "      <td>1/3</td>\n",
              "      <td>0</td>\n",
              "      <td>0</td>\n",
              "      <td>0</td>\n",
              "    </tr>\n",
              "  </tbody>\n",
              "</table>\n",
              "</div>"
            ],
            "text/plain": [
              "       prior likelihood unnorm posterior\n",
              "Door 1   1/3        1/2    1/6       1/3\n",
              "Door 2   1/3          1    1/3       2/3\n",
              "Door 3   1/3          0      0         0"
            ]
          },
          "metadata": {
            "tags": []
          },
          "execution_count": 49
        }
      ]
    },
    {
      "cell_type": "markdown",
      "metadata": {
        "id": "MDuCK6-Qls8a",
        "colab_type": "text"
      },
      "source": [
        "The posterior probability for Door 2 is 2/3, so you are better off switching."
      ]
    },
    {
      "cell_type": "code",
      "metadata": {
        "id": "3yzS7rezls8c",
        "colab_type": "code",
        "colab": {}
      },
      "source": [
        "write_table(table3, 'table01-04')"
      ],
      "execution_count": 50,
      "outputs": []
    },
    {
      "cell_type": "markdown",
      "metadata": {
        "id": "I1wANy5sls8r",
        "colab_type": "text"
      },
      "source": [
        "## Exercises"
      ]
    },
    {
      "cell_type": "markdown",
      "metadata": {
        "id": "wwd6UTJJls8t",
        "colab_type": "text"
      },
      "source": [
        "**Exercise:** Suppose you have two coins in a box.\n",
        "One is a normal coin with heads on one side and tails on the other, and one is a trick coin with heads on both sides.  You choose a coin at random and see that one of the sides is heads.\n",
        "What is the probability that you chose the trick coin?"
      ]
    },
    {
      "cell_type": "code",
      "metadata": {
        "id": "BsMTtkg-ls8v",
        "colab_type": "code",
        "colab": {
          "base_uri": "https://localhost:8080/",
          "height": 34
        },
        "outputId": "24451924-2ba6-4959-9016-f10ecb687914"
      },
      "source": [
        "# Solution goes here\n",
        ".5 * 1 / (.5+.5*.5)"
      ],
      "execution_count": 51,
      "outputs": [
        {
          "output_type": "execute_result",
          "data": {
            "text/plain": [
              "0.6666666666666666"
            ]
          },
          "metadata": {
            "tags": []
          },
          "execution_count": 51
        }
      ]
    },
    {
      "cell_type": "markdown",
      "metadata": {
        "id": "AbcgTSr4ls8-",
        "colab_type": "text"
      },
      "source": [
        "**Exercise:** Suppose you meet someone and learn that they have two children.\n",
        "You ask if either child is a girl and they say yes.\n",
        "What is the probability that both children are girls?\n",
        "\n",
        "Hint: Start with four equally likely hypotheses."
      ]
    },
    {
      "cell_type": "code",
      "metadata": {
        "id": "VL0t9Bqpls9B",
        "colab_type": "code",
        "colab": {
          "base_uri": "https://localhost:8080/",
          "height": 34
        },
        "outputId": "a1a73419-34c6-42c6-f20a-b8dda3decd05"
      },
      "source": [
        "# Solution goes here\n",
        "#1/3\n",
        "#p(gg|g) = p(gg) p(g|gg) / p(g)\n",
        ".25 * 1 / .75"
      ],
      "execution_count": 52,
      "outputs": [
        {
          "output_type": "execute_result",
          "data": {
            "text/plain": [
              "0.3333333333333333"
            ]
          },
          "metadata": {
            "tags": []
          },
          "execution_count": 52
        }
      ]
    },
    {
      "cell_type": "code",
      "metadata": {
        "id": "DsjFd--8sCPM",
        "colab_type": "code",
        "colab": {
          "base_uri": "https://localhost:8080/",
          "height": 112
        },
        "outputId": "d9baa40f-f452-4319-a357-1c104b293175"
      },
      "source": [
        "table3 = pd.DataFrame(index=['both', 'one'])\n",
        "table3['prior'] = Fraction(1, 4), Fraction(1,2)\n",
        "table3['likelihood'] = 1, 1\n",
        "table3['unnorm'] = table3['prior'] * table3['likelihood']\n",
        "prob_data3 = table3['unnorm'].sum()\n",
        "table3['posterior'] = table3['unnorm'] / prob_data3\n",
        "table3"
      ],
      "execution_count": 59,
      "outputs": [
        {
          "output_type": "execute_result",
          "data": {
            "text/html": [
              "<div>\n",
              "<style scoped>\n",
              "    .dataframe tbody tr th:only-of-type {\n",
              "        vertical-align: middle;\n",
              "    }\n",
              "\n",
              "    .dataframe tbody tr th {\n",
              "        vertical-align: top;\n",
              "    }\n",
              "\n",
              "    .dataframe thead th {\n",
              "        text-align: right;\n",
              "    }\n",
              "</style>\n",
              "<table border=\"1\" class=\"dataframe\">\n",
              "  <thead>\n",
              "    <tr style=\"text-align: right;\">\n",
              "      <th></th>\n",
              "      <th>prior</th>\n",
              "      <th>likelihood</th>\n",
              "      <th>unnorm</th>\n",
              "      <th>posterior</th>\n",
              "    </tr>\n",
              "  </thead>\n",
              "  <tbody>\n",
              "    <tr>\n",
              "      <th>both</th>\n",
              "      <td>1/4</td>\n",
              "      <td>1</td>\n",
              "      <td>1/4</td>\n",
              "      <td>1/3</td>\n",
              "    </tr>\n",
              "    <tr>\n",
              "      <th>one</th>\n",
              "      <td>1/2</td>\n",
              "      <td>1</td>\n",
              "      <td>1/2</td>\n",
              "      <td>2/3</td>\n",
              "    </tr>\n",
              "  </tbody>\n",
              "</table>\n",
              "</div>"
            ],
            "text/plain": [
              "     prior  likelihood unnorm posterior\n",
              "both   1/4           1    1/4       1/3\n",
              "one    1/2           1    1/2       2/3"
            ]
          },
          "metadata": {
            "tags": []
          },
          "execution_count": 59
        }
      ]
    },
    {
      "cell_type": "markdown",
      "metadata": {
        "id": "sRtyY6Dnls9P",
        "colab_type": "text"
      },
      "source": [
        "**Exercise:** There are many variations of the [Monty Hall problem](https://en.wikipedia.org/wiki/Monty_Hall_problem}).  \n",
        "For example, suppose Monty always chooses Door 2 if he can and\n",
        "only chooses Door 3 if he has to (because the car is behind Door 2).\n",
        "\n",
        "If you choose Door 1 and Monty opens Door 2, what is the probability the car is behind Door 3?\n",
        "\n",
        "If you choose Door 1 and Monty opens Door 3, what is the probability the car is behind Door 2?"
      ]
    },
    {
      "cell_type": "code",
      "metadata": {
        "id": "PlVMNA5Els9T",
        "colab_type": "code",
        "colab": {
          "base_uri": "https://localhost:8080/",
          "height": 143
        },
        "outputId": "76a5f9a6-3ac7-4b9a-80e1-e659e8fbbe4e"
      },
      "source": [
        "# Solution goes here\n",
        "table3 = pd.DataFrame(index=['Door 1', 'Door 2', 'Door 3'])\n",
        "table3['prior'] = Fraction(1, 3)\n",
        "table3['likelihood'] = 1, 0, 1\n",
        "table3['unnorm'] = table3['prior'] * table3['likelihood']\n",
        "prob_data3 = table3['unnorm'].sum()\n",
        "table3['posterior'] = table3['unnorm'] / prob_data3\n",
        "table3"
      ],
      "execution_count": 60,
      "outputs": [
        {
          "output_type": "execute_result",
          "data": {
            "text/html": [
              "<div>\n",
              "<style scoped>\n",
              "    .dataframe tbody tr th:only-of-type {\n",
              "        vertical-align: middle;\n",
              "    }\n",
              "\n",
              "    .dataframe tbody tr th {\n",
              "        vertical-align: top;\n",
              "    }\n",
              "\n",
              "    .dataframe thead th {\n",
              "        text-align: right;\n",
              "    }\n",
              "</style>\n",
              "<table border=\"1\" class=\"dataframe\">\n",
              "  <thead>\n",
              "    <tr style=\"text-align: right;\">\n",
              "      <th></th>\n",
              "      <th>prior</th>\n",
              "      <th>likelihood</th>\n",
              "      <th>unnorm</th>\n",
              "      <th>posterior</th>\n",
              "    </tr>\n",
              "  </thead>\n",
              "  <tbody>\n",
              "    <tr>\n",
              "      <th>Door 1</th>\n",
              "      <td>1/3</td>\n",
              "      <td>1</td>\n",
              "      <td>1/3</td>\n",
              "      <td>1/2</td>\n",
              "    </tr>\n",
              "    <tr>\n",
              "      <th>Door 2</th>\n",
              "      <td>1/3</td>\n",
              "      <td>0</td>\n",
              "      <td>0</td>\n",
              "      <td>0</td>\n",
              "    </tr>\n",
              "    <tr>\n",
              "      <th>Door 3</th>\n",
              "      <td>1/3</td>\n",
              "      <td>1</td>\n",
              "      <td>1/3</td>\n",
              "      <td>1/2</td>\n",
              "    </tr>\n",
              "  </tbody>\n",
              "</table>\n",
              "</div>"
            ],
            "text/plain": [
              "       prior  likelihood unnorm posterior\n",
              "Door 1   1/3           1    1/3       1/2\n",
              "Door 2   1/3           0      0         0\n",
              "Door 3   1/3           1    1/3       1/2"
            ]
          },
          "metadata": {
            "tags": []
          },
          "execution_count": 60
        }
      ]
    },
    {
      "cell_type": "code",
      "metadata": {
        "id": "ms6Z0mWKls9k",
        "colab_type": "code",
        "colab": {
          "base_uri": "https://localhost:8080/",
          "height": 143
        },
        "outputId": "fc79cbb8-0e2b-4c0d-cdad-be82b92290b3"
      },
      "source": [
        "# Solution goes here\n",
        "table3 = pd.DataFrame(index=['Door 1', 'Door 2', 'Door 3'])\n",
        "table3['prior'] = Fraction(1, 3)\n",
        "table3['likelihood'] = 0, 1, 0\n",
        "table3['unnorm'] = table3['prior'] * table3['likelihood']\n",
        "prob_data3 = table3['unnorm'].sum()\n",
        "table3['posterior'] = table3['unnorm'] / prob_data3\n",
        "table3"
      ],
      "execution_count": 61,
      "outputs": [
        {
          "output_type": "execute_result",
          "data": {
            "text/html": [
              "<div>\n",
              "<style scoped>\n",
              "    .dataframe tbody tr th:only-of-type {\n",
              "        vertical-align: middle;\n",
              "    }\n",
              "\n",
              "    .dataframe tbody tr th {\n",
              "        vertical-align: top;\n",
              "    }\n",
              "\n",
              "    .dataframe thead th {\n",
              "        text-align: right;\n",
              "    }\n",
              "</style>\n",
              "<table border=\"1\" class=\"dataframe\">\n",
              "  <thead>\n",
              "    <tr style=\"text-align: right;\">\n",
              "      <th></th>\n",
              "      <th>prior</th>\n",
              "      <th>likelihood</th>\n",
              "      <th>unnorm</th>\n",
              "      <th>posterior</th>\n",
              "    </tr>\n",
              "  </thead>\n",
              "  <tbody>\n",
              "    <tr>\n",
              "      <th>Door 1</th>\n",
              "      <td>1/3</td>\n",
              "      <td>0</td>\n",
              "      <td>0</td>\n",
              "      <td>0</td>\n",
              "    </tr>\n",
              "    <tr>\n",
              "      <th>Door 2</th>\n",
              "      <td>1/3</td>\n",
              "      <td>1</td>\n",
              "      <td>1/3</td>\n",
              "      <td>1</td>\n",
              "    </tr>\n",
              "    <tr>\n",
              "      <th>Door 3</th>\n",
              "      <td>1/3</td>\n",
              "      <td>0</td>\n",
              "      <td>0</td>\n",
              "      <td>0</td>\n",
              "    </tr>\n",
              "  </tbody>\n",
              "</table>\n",
              "</div>"
            ],
            "text/plain": [
              "       prior  likelihood unnorm posterior\n",
              "Door 1   1/3           0      0         0\n",
              "Door 2   1/3           1    1/3         1\n",
              "Door 3   1/3           0      0         0"
            ]
          },
          "metadata": {
            "tags": []
          },
          "execution_count": 61
        }
      ]
    },
    {
      "cell_type": "code",
      "metadata": {
        "id": "D0i2FmJ_ls9y",
        "colab_type": "code",
        "colab": {}
      },
      "source": [
        "# Solution goes here"
      ],
      "execution_count": 55,
      "outputs": []
    },
    {
      "cell_type": "markdown",
      "metadata": {
        "id": "gpi9KR6Ols9_",
        "colab_type": "text"
      },
      "source": [
        "**Exercise:** M&M's are small candy-coated chocolates that come in a variety of\n",
        "colors.  Mars, Inc., which makes M&M's, changes the mixture of colors from time to time.\n",
        "In 1995, they introduced blue M&M's.  \n",
        "\n",
        "* In 1994, the color mix in a bag of plain M&M's was 30\\% Brown, 20\\% Yellow, 20\\% Red, 10\\% Green, 10\\% Orange, 10\\% Tan.  \n",
        "\n",
        "* In 1996, it was 24\\% Blue , 20\\% Green, 16\\% Orange, 14\\% Yellow, 13\\% Red, 13\\% Brown.\n",
        "\n",
        "Suppose a friend of mine has two bags of M&M's, and he tells me\n",
        "that one is from 1994 and one from 1996.  He won't tell me which is\n",
        "which, but he gives me one M&M from each bag.  One is yellow and\n",
        "one is green.  What is the probability that the yellow one came\n",
        "from the 1994 bag?\n",
        "\n",
        "Hint: The trick to this question is to define the hypotheses and the data carefully."
      ]
    },
    {
      "cell_type": "code",
      "metadata": {
        "id": "U18kDoYils-D",
        "colab_type": "code",
        "colab": {
          "base_uri": "https://localhost:8080/",
          "height": 112
        },
        "outputId": "adf44fc4-1c0d-429e-b9d2-1d8083b412e1"
      },
      "source": [
        "table3 = pd.DataFrame(index=['94 yellow 96 green', '96 yellow 94 green'])\n",
        "table3['prior'] = Fraction(1, 2)\n",
        "table3['likelihood'] = .2*.2, .1*.14\n",
        "table3['unnorm'] = table3['prior'] * table3['likelihood']\n",
        "prob_data3 = table3['unnorm'].sum()\n",
        "table3['posterior'] = table3['unnorm'] / prob_data3\n",
        "table3"
      ],
      "execution_count": 63,
      "outputs": [
        {
          "output_type": "execute_result",
          "data": {
            "text/html": [
              "<div>\n",
              "<style scoped>\n",
              "    .dataframe tbody tr th:only-of-type {\n",
              "        vertical-align: middle;\n",
              "    }\n",
              "\n",
              "    .dataframe tbody tr th {\n",
              "        vertical-align: top;\n",
              "    }\n",
              "\n",
              "    .dataframe thead th {\n",
              "        text-align: right;\n",
              "    }\n",
              "</style>\n",
              "<table border=\"1\" class=\"dataframe\">\n",
              "  <thead>\n",
              "    <tr style=\"text-align: right;\">\n",
              "      <th></th>\n",
              "      <th>prior</th>\n",
              "      <th>likelihood</th>\n",
              "      <th>unnorm</th>\n",
              "      <th>posterior</th>\n",
              "    </tr>\n",
              "  </thead>\n",
              "  <tbody>\n",
              "    <tr>\n",
              "      <th>94 yellow 96 green</th>\n",
              "      <td>1/2</td>\n",
              "      <td>0.040</td>\n",
              "      <td>0.02</td>\n",
              "      <td>0.740741</td>\n",
              "    </tr>\n",
              "    <tr>\n",
              "      <th>96 yellow 94 green</th>\n",
              "      <td>1/2</td>\n",
              "      <td>0.014</td>\n",
              "      <td>0.007</td>\n",
              "      <td>0.259259</td>\n",
              "    </tr>\n",
              "  </tbody>\n",
              "</table>\n",
              "</div>"
            ],
            "text/plain": [
              "                   prior  likelihood unnorm posterior\n",
              "94 yellow 96 green   1/2       0.040   0.02  0.740741\n",
              "96 yellow 94 green   1/2       0.014  0.007  0.259259"
            ]
          },
          "metadata": {
            "tags": []
          },
          "execution_count": 63
        }
      ]
    },
    {
      "cell_type": "code",
      "metadata": {
        "id": "z6kbrPuJls-T",
        "colab_type": "code",
        "colab": {}
      },
      "source": [
        ""
      ],
      "execution_count": 56,
      "outputs": []
    }
  ]
}